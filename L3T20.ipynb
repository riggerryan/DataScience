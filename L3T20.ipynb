{
 "cells": [
  {
   "cell_type": "markdown",
   "metadata": {
    "colab_type": "text",
    "id": "eHGm8RQlK46m"
   },
   "source": [
    "# Get and explore dataset"
   ]
  },
  {
   "cell_type": "code",
   "execution_count": 1,
   "metadata": {
    "colab": {},
    "colab_type": "code",
    "id": "-erlYw1jXtgh"
   },
   "outputs": [],
   "source": [
    "import matplotlib.pyplot as plt\n",
    "from matplotlib import pyplot\n",
    "import numpy as np\n",
    "import re"
   ]
  },
  {
   "cell_type": "code",
   "execution_count": 2,
   "metadata": {
    "colab": {},
    "colab_type": "code",
    "id": "goZIhX8nII4T"
   },
   "outputs": [],
   "source": [
    "# Make results reproducible - set random seed\n",
    "from numpy.random import seed\n",
    "seed(42)"
   ]
  },
  {
   "cell_type": "code",
   "execution_count": 3,
   "metadata": {
    "colab": {},
    "colab_type": "code",
    "id": "v_fEysQHII4W",
    "tags": []
   },
   "outputs": [],
   "source": [
    "negative_file = \"negative.txt\"\n",
    "positive_file = \"positive.txt\""
   ]
  },
  {
   "cell_type": "code",
   "execution_count": 4,
   "metadata": {
    "colab": {},
    "colab_type": "code",
    "id": "0rWm4yycII4Y",
    "tags": []
   },
   "outputs": [],
   "source": [
    "# Do not modify - helper function to load and preprocess data\n",
    "def filter_words(line):    \n",
    "    line = re.sub(r'[^\\w\\s]','',line.rstrip())\n",
    "    words = line.split(\" \") \n",
    "    words = [i.lower() for i in words if i]      \n",
    "    return \" \".join(words)\n",
    "\n",
    "def load_data(filename):\n",
    "    thefile = open(filename, 'r') \n",
    "    lines = thefile.readlines() \n",
    "\n",
    "    data = []\n",
    "    for l in range(0,len(lines)): \n",
    "        if(lines[l-1].strip() == \"<title>\"): \n",
    "            theline = filter_words(lines[l])\n",
    "            if(len(theline) < 50):\n",
    "                data.append(theline)            \n",
    "            \n",
    "    return data\n",
    "\n",
    "# Helper function to convert categorical data to class label\n",
    "def to_word_label(y):\n",
    "    y = to_class(y)   \n",
    "    return [\"positive\" if i==0 else \"negative\" for i in y]\n",
    "\n",
    "# Helper function to convert class label to numeric label\n",
    "def to_numeric_label(y):\n",
    "  return [0 if i==\"positive\" else 1 for i in word_labels]\n",
    "\n",
    "# Helper function: this function needs to be called before sending arrays to sklearn metrics,\n",
    "# it converts back to class form from categorical form. ie: [1,0] --> 0, [0,1] --> 1\n",
    "def to_class(y):\n",
    "    return np.argmax(y,axis=1) "
   ]
  },
  {
   "cell_type": "code",
   "execution_count": 5,
   "metadata": {
    "colab": {
     "base_uri": "https://localhost:8080/",
     "height": 70
    },
    "colab_type": "code",
    "id": "jjGUiFm9II4b",
    "outputId": "aa5eb89b-85f2-4d61-f33a-b00361b19a41",
    "tags": []
   },
   "outputs": [
    {
     "name": "stdout",
     "output_type": "stream",
     "text": [
      "['one of the best crichton novels', 'the medicine of the future', 'beautiful', 'for lovers of robicheaux', 'a good book', 'to the point and beautifully illustrated', 'at least somebody has got it', 'beautifully written heartwarming story', 'an excellent cookbook full of delicious recipes', 'an outstanding resource']\n",
      "['horrible book horrible', 'shallow selfindulgence', 'horrible book horrible', 'disappointment', 'a disappointing mess', 'save your money there are better books out there', 'thank you but no thanks', 'unendurable', 'the hard way', 'some good info among the political commercial']\n"
     ]
    }
   ],
   "source": [
    "positive = load_data(positive_file)\n",
    "negative = load_data(negative_file)\n",
    "\n",
    "print(positive[0:10])\n",
    "print(negative[0:10])"
   ]
  },
  {
   "cell_type": "code",
   "execution_count": 6,
   "metadata": {
    "colab": {},
    "colab_type": "code",
    "id": "yrgEYOOCII4d",
    "tags": []
   },
   "outputs": [
    {
     "name": "stderr",
     "output_type": "stream",
     "text": [
      "C:\\Users\\ryan.harrison\\AppData\\Local\\Programs\\Python\\Python310\\lib\\site-packages\\requests\\__init__.py:102: RequestsDependencyWarning: urllib3 (1.26.9) or chardet (5.0.0)/charset_normalizer (2.0.12) doesn't match a supported version!\n",
      "  warnings.warn(\"urllib3 ({}) or chardet ({})/charset_normalizer ({}) doesn't match a supported \"\n"
     ]
    }
   ],
   "source": [
    "# Do not modify - Combines the positive and negative reviews into a single list and create labels\n",
    "data = positive + negative\n",
    "word_labels = [\"positive\"] * len(positive) + [\"negative\"] * len(negative) \n",
    "\n",
    "# Converts labels to numbers in one-hot encoding - [1, 0] (positive) or [0, 1] (negative)\n",
    "from keras.utils import to_categorical\n",
    "labels  = to_categorical(to_numeric_label(word_labels))"
   ]
  },
  {
   "cell_type": "code",
   "execution_count": 7,
   "metadata": {
    "colab": {},
    "colab_type": "code",
    "id": "97Uh2uBpII4l",
    "tags": []
   },
   "outputs": [
    {
     "name": "stdout",
     "output_type": "stream",
     "text": [
      "Mean Review Size: 4.336865588399331\n",
      "Standard Deviation: 2.16967555545863\n"
     ]
    },
    {
     "data": {
      "image/png": "[encoded data removed]",
      "text/plain": [
       "<Figure size 600x300 with 1 Axes>"
      ]
     },
     "metadata": {},
     "output_type": "display_data"
    }
   ],
   "source": [
    "# Write some code to investigate the dataset. \n",
    "# - Calculate and report the mean review size, its standard deviation and create a boxplot.\n",
    "review_sizes = [len(i.split(\" \")) for i in data]\n",
    "mean_review_size = np.mean(review_sizes)\n",
    "standard_deviation = np.std(review_sizes)\n",
    "print(\"Mean Review Size: {}\\nStandard Deviation: {}\".format(mean_review_size, standard_deviation))\n",
    "\n",
    "# Create the boxplot\n",
    "boxplot_fig = plt.figure(figsize=(6, 3))\n",
    "box_1 = plt.boxplot(review_sizes, vert=0, patch_artist=True, notch=True)\n",
    "plt.setp(box_1[\"medians\"], color=\"#00FF00\")\n",
    "plt.title(\"Review Sizes\")\n",
    "plt.show()"
   ]
  },
  {
   "cell_type": "markdown",
   "metadata": {},
   "source": [
    "We can see here that the mean review size is around 4, with the longest being around 6 and the shortest around 3. This means the deviation is quite small overall, so we should be able to get reasonably accurate results for most reviews without needing add/ trim too much data. There are also just 2 outliers with 10+ words."
   ]
  },
  {
   "cell_type": "code",
   "execution_count": 8,
   "metadata": {},
   "outputs": [
    {
     "name": "stdout",
     "output_type": "stream",
     "text": [
      "Total unique words: 2559\n"
     ]
    }
   ],
   "source": [
    "# - Calculate the number of unique words in the dataset\n",
    "unique_words = []\n",
    "for each_review in data:\n",
    "    # Split by spaces to get each word in each review.\n",
    "    words = each_review.split(\" \")\n",
    "    unique_words.extend(words)\n",
    "    \n",
    "# Convert list to a set to remove duplicates.\n",
    "unique_words = list(set(unique_words))\n",
    "print(\"Total unique words: {}\".format(len(unique_words)))"
   ]
  },
  {
   "cell_type": "code",
   "execution_count": 9,
   "metadata": {},
   "outputs": [
    {
     "data": {
      "image/png": "[encoded data removed]",
      "text/plain": [
       "<Figure size 640x480 with 1 Axes>"
      ]
     },
     "metadata": {},
     "output_type": "display_data"
    }
   ],
   "source": [
    "# - Calculate how many positive vs negative reviews we have to see the split.\n",
    "piechart_fig, piechart_ax = plt.subplots()\n",
    "piechart_ax.pie([len(positive), len(negative)], labels=[\"Positive\", \"Negative\"], autopct='%1.1f%%', shadow=True, startangle=90)\n",
    "plt.show()"
   ]
  },
  {
   "cell_type": "markdown",
   "metadata": {},
   "source": [
    "The split seems to favour negative more than positive, but only slightly."
   ]
  },
  {
   "cell_type": "code",
   "execution_count": 10,
   "metadata": {
    "colab": {
     "base_uri": "https://localhost:8080/",
     "height": 50
    },
    "colab_type": "code",
    "id": "_XXnArgcII4i",
    "outputId": "020b2ee2-4c2a-4bc0-bb55-e2ae3841fe57",
    "tags": []
   },
   "outputs": [
    {
     "name": "stdout",
     "output_type": "stream",
     "text": [
      "['one of the best crichton novels', 'the medicine of the future', 'beautiful', 'for lovers of robicheaux', 'a good book']\n",
      "[[18, 4, 2, 19], [2, 4, 2], [], [6, 4], [1, 12, 3]]\n"
     ]
    }
   ],
   "source": [
    "# Do not modify - Tokenize the vocabulary \n",
    "from keras.preprocessing.text import Tokenizer\n",
    "\n",
    "tokenizer = Tokenizer(num_words=25)\n",
    "\n",
    "tokenizer.fit_on_texts(data) #create the vocabularry\n",
    "\n",
    "tokenized_data = tokenizer.texts_to_sequences(data) #tokenize the data using the vocabulary\n",
    "\n",
    "vocab_size = len(tokenizer.word_index) + 1 \n",
    "\n",
    "# Compare a sample of the data before and after tokenization\n",
    "print(data[0:5])\n",
    "print(tokenized_data[0:5])"
   ]
  },
  {
   "cell_type": "markdown",
   "metadata": {
    "colab_type": "text",
    "id": "_vsMmLjdK1Gf"
   },
   "source": [
    "# Pre-processing"
   ]
  },
  {
   "cell_type": "code",
   "execution_count": 11,
   "metadata": {
    "colab": {},
    "colab_type": "code",
    "id": "24DaXd1zII4q",
    "tags": []
   },
   "outputs": [
    {
     "name": "stdout",
     "output_type": "stream",
     "text": [
      "[[18  4  2 19]\n",
      " [ 2  4  2  0]\n",
      " [ 0  0  0  0]\n",
      " [ 6  4  0  0]\n",
      " [ 1 12  3  0]]\n"
     ]
    }
   ],
   "source": [
    "# Pre-processing\n",
    "import tensorflow as tf\n",
    "from tensorflow import keras\n",
    "from keras.utils import to_categorical\n",
    "from keras.models import Sequential\n",
    "from keras.layers import LSTM, Dense, Embedding, BatchNormalization, SpatialDropout1D\n",
    "\n",
    "# Write some code to pre-process the data so that each review is the same length\n",
    "trimmed_data = keras.preprocessing.sequence.pad_sequences(tokenized_data, maxlen=4, dtype=\"int32\", padding=\"post\", value=0.0)\n",
    "print(trimmed_data[0:5])"
   ]
  },
  {
   "cell_type": "code",
   "execution_count": 12,
   "metadata": {
    "colab": {},
    "colab_type": "code",
    "id": "AFTJcFy6II4s",
    "tags": []
   },
   "outputs": [],
   "source": [
    "from sklearn.model_selection import train_test_split\n",
    "# Write some code to split the data into a training and test set. Make sure you shuffle the data. Use 20% for the test set.\n",
    "X = trimmed_data\n",
    "y = labels\n",
    "X_train, X_test, y_train, y_test = train_test_split(X, y, test_size=0.20, shuffle=True)"
   ]
  },
  {
   "cell_type": "code",
   "execution_count": 13,
   "metadata": {
    "colab": {
     "base_uri": "https://localhost:8080/",
     "height": 128
    },
    "colab_type": "code",
    "id": "lDth1BSzII4u",
    "outputId": "4614049a-7151-4407-9bc8-54604bbe7fdd"
   },
   "outputs": [],
   "source": [
    "from sklearn.metrics import confusion_matrix, precision_score, recall_score, f1_score\n",
    "\n",
    "# Fill in the following function so it\n",
    "# - makes a prediction for the test set given the model\n",
    "# - reports the precision, recall and f1 score. Also print the confusion matrix. \n",
    "# You will need to use the helper to_class function to convert y_pred and y_test before supplying them to the sklearn functions.\n",
    "\n",
    "def assess_model(input_model, test_X, test_y):\n",
    "    # Make predictions on the model.\n",
    "    y_pred = input_model.predict(test_X)\n",
    "    \n",
    "    # Get the precision.\n",
    "    precision = precision_score(to_class(test_y), to_class(y_pred))\n",
    "    \n",
    "    # Get the recall.\n",
    "    recall = recall_score(to_class(test_y), to_class(y_pred))\n",
    "    \n",
    "    # Get the f1 score.\n",
    "    f1 = f1_score(to_class(test_y), to_class(y_pred))\n",
    "    \n",
    "    # Get the confusion matrix.\n",
    "    confusion = confusion_matrix(to_class(test_y), to_class(y_pred))\n",
    "    \n",
    "    # Print the results\n",
    "    print(\"precision_score:\\n{}\\n\\nrecall_score:\\n{}\\n\\nf1_score:\\n{}\\n\\nconfusion_matrix:\\n{}\\n\\n\".format(precision,\n",
    "                                                                                                           recall,\n",
    "                                                                                                           f1,\n",
    "                                                                                                           confusion))"
   ]
  },
  {
   "cell_type": "markdown",
   "metadata": {
    "colab_type": "text",
    "id": "nTqLbbE6MpGt"
   },
   "source": [
    "# Build and tune model"
   ]
  },
  {
   "cell_type": "markdown",
   "metadata": {
    "colab_type": "text",
    "id": "3X70rA4uMXNv"
   },
   "source": [
    "Define network architecture"
   ]
  },
  {
   "cell_type": "code",
   "execution_count": 14,
   "metadata": {
    "colab": {},
    "colab_type": "code",
    "id": "wKoXWKG4II5F"
   },
   "outputs": [
    {
     "name": "stdout",
     "output_type": "stream",
     "text": [
      "Model: \"sequential\"\n",
      "_________________________________________________________________\n",
      " Layer (type)                Output Shape              Param #   \n",
      "=================================================================\n",
      " embedding (Embedding)       (None, 4, 1000)           1793000   \n",
      "                                                                 \n",
      " spatial_dropout1d (SpatialD  (None, 4, 1000)          0         \n",
      " ropout1D)                                                       \n",
      "                                                                 \n",
      " batch_normalization (BatchN  (None, 4, 1000)          4000      \n",
      " ormalization)                                                   \n",
      "                                                                 \n",
      " lstm (LSTM)                 (None, 32)                132224    \n",
      "                                                                 \n",
      " dense (Dense)               (None, 2)                 66        \n",
      "                                                                 \n",
      "=================================================================\n",
      "Total params: 1,929,290\n",
      "Trainable params: 1,927,290\n",
      "Non-trainable params: 2,000\n",
      "_________________________________________________________________\n"
     ]
    }
   ],
   "source": [
    "# Create model\n",
    "model = Sequential()\n",
    "\n",
    "# Embedding layer\n",
    "model.add(Embedding(input_dim=len(data), output_dim=1000, input_length=4))\n",
    "\n",
    "# Spatial Dropout\n",
    "model.add(SpatialDropout1D(0.2))\n",
    "\n",
    "# Batch Normalisation\n",
    "model.add(BatchNormalization())\n",
    "\n",
    "# LSTM\n",
    "model.add(LSTM(32))\n",
    "\n",
    "# Dense\n",
    "model.add(Dense(2, activation=\"softmax\"))\n",
    "\n",
    "# Compile the model\n",
    "model.compile(optimizer=\"adam\", loss=\"binary_crossentropy\", metrics=[\"accuracy\"])\n",
    "\n",
    "# Display\n",
    "model.summary()"
   ]
  },
  {
   "cell_type": "markdown",
   "metadata": {
    "colab_type": "text",
    "id": "llS0-VKBMbz-"
   },
   "source": [
    "Train model"
   ]
  },
  {
   "cell_type": "code",
   "execution_count": 15,
   "metadata": {
    "colab": {},
    "colab_type": "code",
    "id": "F5IJs0QuMe_I"
   },
   "outputs": [
    {
     "name": "stdout",
     "output_type": "stream",
     "text": [
      "Epoch 1/5\n",
      "144/144 [==============================] - 3s 13ms/step - loss: 0.6875 - accuracy: 0.5621 - val_loss: 0.6849 - val_accuracy: 0.5571\n",
      "Epoch 2/5\n",
      "144/144 [==============================] - 2s 11ms/step - loss: 0.6599 - accuracy: 0.6011 - val_loss: 0.6726 - val_accuracy: 0.5822\n",
      "Epoch 3/5\n",
      "144/144 [==============================] - 2s 11ms/step - loss: 0.6496 - accuracy: 0.6109 - val_loss: 0.6601 - val_accuracy: 0.6072\n",
      "Epoch 4/5\n",
      "144/144 [==============================] - 2s 11ms/step - loss: 0.6409 - accuracy: 0.6227 - val_loss: 0.6606 - val_accuracy: 0.6100\n",
      "Epoch 5/5\n",
      "144/144 [==============================] - 2s 11ms/step - loss: 0.6399 - accuracy: 0.6283 - val_loss: 0.6668 - val_accuracy: 0.6072\n"
     ]
    }
   ],
   "source": [
    "# Train\n",
    "model_history = model.fit(X_train, y_train, epochs=5, batch_size=10, validation_data=(X_test, y_test))"
   ]
  },
  {
   "cell_type": "markdown",
   "metadata": {
    "colab_type": "text",
    "id": "rniBBEiyMRKD"
   },
   "source": [
    "Examine performance of model"
   ]
  },
  {
   "cell_type": "code",
   "execution_count": 16,
   "metadata": {
    "colab": {},
    "colab_type": "code",
    "id": "eBVogHg2II5T",
    "tags": []
   },
   "outputs": [
    {
     "name": "stdout",
     "output_type": "stream",
     "text": [
      "12/12 [==============================] - 0s 2ms/step\n",
      "precision_score:\n",
      "0.5846774193548387\n",
      "\n",
      "recall_score:\n",
      "0.7923497267759563\n",
      "\n",
      "f1_score:\n",
      "0.6728538283062645\n",
      "\n",
      "confusion_matrix:\n",
      "[[ 73 103]\n",
      " [ 38 145]]\n",
      "\n",
      "\n"
     ]
    }
   ],
   "source": [
    "assess_model(input_model=model, test_X=X_test, test_y=y_test)"
   ]
  },
  {
   "cell_type": "markdown",
   "metadata": {},
   "source": [
    "#### output_dim 10:\n",
    "\n",
    "precision_score:\n",
    "0.5829383886255924\n",
    "\n",
    "recall_score:\n",
    "0.6721311475409836\n",
    "\n",
    "f1_score:\n",
    "0.6243654822335025\n",
    "\n",
    "confusion_matrix:\n",
    "[[ 88  88]\n",
    " [ 60 123]]\n",
    "\n",
    "#### output_dim 25: \n",
    "\n",
    "precision_score:\n",
    "0.583710407239819\n",
    "\n",
    "recall_score:\n",
    "0.7049180327868853\n",
    "\n",
    "f1_score:\n",
    "0.6386138613861386\n",
    "\n",
    "confusion_matrix:\n",
    "[[ 84  92]\n",
    " [ 54 129]]\n",
    " \n",
    "#### output_dim 100:\n",
    " \n",
    " precision_score:\n",
    "0.5796460176991151\n",
    "\n",
    "recall_score:\n",
    "0.7158469945355191\n",
    "\n",
    "f1_score:\n",
    "0.6405867970660146\n",
    "\n",
    "confusion_matrix:\n",
    "[[ 81  95]\n",
    " [ 52 131]]\n",
    " \n",
    "#### output_dim 1000:\n",
    "\n",
    "precision_score:\n",
    "0.5731225296442688\n",
    "\n",
    "recall_score:\n",
    "0.7923497267759563\n",
    "\n",
    "f1_score:\n",
    "0.6651376146788991\n",
    "\n",
    "confusion_matrix:\n",
    "[[ 68 108]\n",
    " [ 38 145]]\n"
   ]
  },
  {
   "cell_type": "markdown",
   "metadata": {
    "colab_type": "text",
    "id": "HB8kzt-IME4U"
   },
   "source": [
    "Plot graphs for accuracy and loss"
   ]
  },
  {
   "cell_type": "code",
   "execution_count": 17,
   "metadata": {
    "colab": {},
    "colab_type": "code",
    "id": "hPyJ78unMJUI"
   },
   "outputs": [
    {
     "data": {
      "image/png": "[encoded data removed]",
      "text/plain": [
       "<Figure size 640x480 with 1 Axes>"
      ]
     },
     "metadata": {},
     "output_type": "display_data"
    }
   ],
   "source": [
    "# Get the accuracy from the history of the model and plot.\n",
    "plt.plot(model_history.history[\"accuracy\"])\n",
    "plt.plot(model_history.history[\"loss\"])\n",
    "plt.title(\"Model Accuracy/ Loss\")\n",
    "plt.xlabel(\"Epoch\")\n",
    "plt.legend([\"loss\", \"accuracy\"], loc='upper left')\n",
    "plt.show()"
   ]
  },
  {
   "cell_type": "markdown",
   "metadata": {
    "colab_type": "text",
    "id": "eAZ1LyFBMLoK"
   },
   "source": [
    "# Make a prediction"
   ]
  },
  {
   "cell_type": "code",
   "execution_count": 18,
   "metadata": {
    "colab": {},
    "colab_type": "code",
    "id": "vfPM5LokII5V",
    "tags": []
   },
   "outputs": [
    {
     "name": "stdout",
     "output_type": "stream",
     "text": [
      "1/1 [==============================] - 0s 13ms/step\n"
     ]
    }
   ],
   "source": [
    "# This is a very small set of completed new data to use to make predictions.\n",
    "prediction_data = [\"this book is fabulous\",\"i hated this book\", \"the best\", \"no good\", \"okay\"]\n",
    "tokenized = tokenizer.texts_to_sequences(prediction_data)\n",
    "padded = keras.preprocessing.sequence.pad_sequences(tokenized, padding=\"post\", maxlen=4)\n",
    "\n",
    "# Supply this data to each of your models and see how it does. \n",
    "# You can call the helper function \"to_word_label\" to map the output of the model to the name of the\n",
    "# class it was predicted to belong to.\n",
    "custom_predictions = model.predict(padded)\n",
    "prediction_results = to_word_label(y=custom_predictions)"
   ]
  },
  {
   "cell_type": "code",
   "execution_count": 19,
   "metadata": {},
   "outputs": [
    {
     "name": "stdout",
     "output_type": "stream",
     "text": [
      "['negative', 'negative', 'positive', 'positive', 'negative']\n"
     ]
    }
   ],
   "source": [
    "print(prediction_results)"
   ]
  },
  {
   "cell_type": "markdown",
   "metadata": {},
   "source": [
    "output_dim 10: ['negative', 'negative', 'positive', 'positive', 'negative']\n",
    "\n",
    "output_dim 25: ['negative', 'negative', 'positive', 'positive', 'negative']\n",
    "\n",
    "output_dim 100: ['negative', 'negative', 'positive', 'positive', 'negative']\n",
    "\n",
    "output_dim 1000: ['negative', 'negative', 'positive', 'positive', 'negative']"
   ]
  },
  {
   "cell_type": "markdown",
   "metadata": {},
   "source": [
    "# Custom sentence predictions"
   ]
  },
  {
   "cell_type": "code",
   "execution_count": 20,
   "metadata": {},
   "outputs": [
    {
     "name": "stdout",
     "output_type": "stream",
     "text": [
      "1/1 [==============================] - 0s 13ms/step\n",
      "['positive', 'negative', 'negative', 'negative']\n"
     ]
    }
   ],
   "source": [
    "# This is a very small set of completed new data to use to make predictions.\n",
    "prediction_data_2 = [\"amazing book\", \"would not recommend\", \"would highly recommend\", \"unlikely success\"]\n",
    "tokenized_2 = tokenizer.texts_to_sequences(prediction_data_2)\n",
    "padded_2 = keras.preprocessing.sequence.pad_sequences(tokenized_2, padding=\"post\", maxlen=4)\n",
    "\n",
    "# Supply this data to each of your models and see how it does. \n",
    "# You can call the helper function \"to_word_label\" to map the output of the model to the name of the\n",
    "# class it was predicted to belong to.\n",
    "custom_predictions_2 = model.predict(padded_2)\n",
    "prediction_results_2 = to_word_label(y=custom_predictions_2)\n",
    "\n",
    "print(prediction_results_2)"
   ]
  },
  {
   "cell_type": "markdown",
   "metadata": {},
   "source": [
    "# Summary"
   ]
  },
  {
   "cell_type": "markdown",
   "metadata": {},
   "source": [
    "The model isn't perfect, but does have a grasp on some positive/ negative comments. As you can see in the custom prediction data, comments such as \"unlikely success\" and \"would highly recommend\" seemed to trip up this prediction model. Increasing the output_dim did seem to improve the model slightly. I assumed increasing the epochs would also help, but this ended up being detrimental to the model in the end, so I stuck with 5."
   ]
  }
 ],
 "metadata": {
  "colab": {
   "collapsed_sections": [],
   "name": "L3T20.ipynb",
   "provenance": []
  },
  "kernelspec": {
   "display_name": "Python 3 (ipykernel)",
   "language": "python",
   "name": "python3"
  },
  "language_info": {
   "codemirror_mode": {
    "name": "ipython",
    "version": 3
   },
   "file_extension": ".py",
   "mimetype": "text/x-python",
   "name": "python",
   "nbconvert_exporter": "python",
   "pygments_lexer": "ipython3",
   "version": "3.10.4"
  }
 },
 "nbformat": 4,
 "nbformat_minor": 1
}
